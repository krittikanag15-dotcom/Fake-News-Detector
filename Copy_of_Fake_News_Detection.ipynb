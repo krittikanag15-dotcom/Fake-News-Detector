{
  "nbformat": 4,
  "nbformat_minor": 0,
  "metadata": {
    "colab": {
      "provenance": [],
      "include_colab_link": true
    },
    "kernelspec": {
      "name": "python3",
      "display_name": "Python 3"
    },
    "language_info": {
      "name": "python"
    }
  },
  "cells": [
    {
      "cell_type": "markdown",
      "metadata": {
        "id": "view-in-github",
        "colab_type": "text"
      },
      "source": [
        "<a href=\"https://colab.research.google.com/github/krittikanag15-dotcom/Fake-News-Detector/blob/main/Copy_of_Fake_News_Detection.ipynb\" target=\"_parent\"><img src=\"https://colab.research.google.com/assets/colab-badge.svg\" alt=\"Open In Colab\"/></a>"
      ]
    },
    {
      "cell_type": "code",
      "source": [
        "#Importing libraries\n",
        "import pandas as pd\n",
        "import numpy as np\n",
        "import matplotlib.pyplot as plt\n",
        "import seaborn as sns\n",
        "from sklearn.model_selection import train_test_split\n",
        "from sklearn.metrics import accuracy_score\n",
        "from sklearn.metrics import confusion_matrix\n",
        "from sklearn.metrics import classification_report\n",
        "from sklearn.metrics import roc_auc_score\n",
        "from sklearn.metrics import roc_curve\n",
        "import re\n",
        "import string\n",
        "import requests\n",
        "from requests.utils import quote"
      ],
      "metadata": {
        "id": "msZS4f0WoM_w"
      },
      "execution_count": null,
      "outputs": []
    },
    {
      "cell_type": "code",
      "source": [],
      "metadata": {
        "id": "XOI9Qqz5OnPg"
      },
      "execution_count": null,
      "outputs": []
    },
    {
      "cell_type": "code",
      "source": [
        "#Real time news api (https://gnews.io/dashboard) -- 100 requests per day\n",
        "news_api_key = 'd2b27a1e3f818564545508b6c744d24a'\n",
        "#Endpoints are -> {search , top-headlines}\n",
        "endpoint = 'search'\n",
        "#Parameters are -> {The topic the user want to search}\n",
        "question = input('Enter your question: ')\n",
        "parameters = f'q={quote(question)}&lang=en&max=5'\n",
        "#Example (try this link to understand the url)-> https://gnews.io/api/v4/top-headlines?q=modi&lang=en&max=5&apikey=d2b27a1e3f818564545508b6c744d24a\n",
        "news_api_url = f'https://gnews.io/api/v4/{endpoint}?{parameters}&apikey={news_api_key}'\n",
        "\n",
        "response = requests.get(news_api_url)\n",
        "data = response.json()\n",
        "\n",
        "if 'articles' in data:\n",
        "    for article in data['articles']:\n",
        "        print(f\"Published Time: {article['publishedAt']}\")\n",
        "        print(f\"Title: {article['title']}\")\n",
        "        print(f\"Description: {article['description']}\")\n",
        "        print(f\"Image: {article['image']}\")\n",
        "        print(f\"Content: {article['content']}\")\n",
        "        print(f\"Source Name: {article['source']['name']}\")\n",
        "        print(f\"Source URL: {article['source']['url']}\")\n",
        "        print(f\"Source Country: {article['source']['country']}\")\n",
        "        print(f\"URL: {article['url']}\\n\")\n",
        "else:\n",
        "    print(data)"
      ],
      "metadata": {
        "id": "Sd6poGBt6bJi"
      },
      "execution_count": null,
      "outputs": []
    },
    {
      "cell_type": "code",
      "source": [],
      "metadata": {
        "id": "MMt_8ZnnOghp"
      },
      "execution_count": null,
      "outputs": []
    },
    {
      "cell_type": "code",
      "source": [
        "Soham"
      ],
      "metadata": {
        "id": "dTOcGJwMpR9p"
      },
      "execution_count": null,
      "outputs": []
    }
  ]
}